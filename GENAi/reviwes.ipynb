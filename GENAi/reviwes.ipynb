{
 "cells": [
  {
   "cell_type": "markdown",
   "metadata": {},
   "source": [
    "'''<br>\n",
    "    @Author: v sanjay kumar<br>\n",
    "    @Date: 2024-10-18 04:00:30<br>\n",
    "    @Last Modified by: v sanjay kumar<br>\n",
    "    @Last Modified time: 2024-010-018 04:00:30.<br>\n",
    "    @Title :Check the reviews positive or negitive <br>\n",
    "\n",
    "'''"
   ]
  },
  {
   "cell_type": "code",
   "execution_count": 68,
   "metadata": {},
   "outputs": [],
   "source": [
    "import csv\n",
    "import os\n",
    "import google.generativeai as genai\n",
    "from dotenv import load_dotenv"
   ]
  },
  {
   "cell_type": "code",
   "execution_count": 69,
   "metadata": {},
   "outputs": [
    {
     "data": {
      "text/plain": [
       "True"
      ]
     },
     "execution_count": 69,
     "metadata": {},
     "output_type": "execute_result"
    }
   ],
   "source": [
    "# Load environment variables\n",
    "load_dotenv()"
   ]
  },
  {
   "cell_type": "code",
   "execution_count": 70,
   "metadata": {},
   "outputs": [],
   "source": [
    "genai.configure(api_key=os.environ[\"GEMINI_API_KEY\"])\n",
    "\n",
    "# Function to analyze sentiment and generate appropriate messages\n",
    "def analyze_sentiment_and_generate_message(body):\n",
    "\n",
    "    \"\"\"\n",
    "    Description:\n",
    "    Analyze the sentiment of the review and generate a thank-you or apology message based on the sentiment.\n",
    "\n",
    "    Parameters:\n",
    "    body (str): The content of the review.\n",
    "\n",
    "    Returns:\n",
    "    tuple: A tuple containing:\n",
    "        - sentiment_response (str): The sentiment of the review, either 'positive' or 'negative'.\n",
    "        - response_message (str): A generated thank-you message for positive reviews or an apology message for negative reviews.\n",
    "    \"\"\"\n",
    "    \n",
    "    generation_config = {\n",
    "        \"temperature\": 1,\n",
    "        \"max_output_tokens\": 8192,\n",
    "        \"response_mime_type\": \"text/plain\",\n",
    "    }\n",
    "    \n",
    "    # Initialize the model\n",
    "    model = genai.GenerativeModel(\n",
    "        model_name=\"gemini-1.5-flash\",\n",
    "        generation_config=generation_config,\n",
    "    )\n",
    "\n",
    "    # Analyze sentiment\n",
    "    chat_session = model.start_chat(history=[])\n",
    "    prompt = f\"Analyze the sentiment of the following review. Respond with only 'positive' or 'negative':\\n\\n{body}\\n\"\n",
    "    sentiment_response = chat_session.send_message(prompt).text.strip()\n",
    "\n",
    "    # Generate appropriate message\n",
    "    if \"positive\" in sentiment_response.lower():\n",
    "        message_prompt = f\"Generate a short thank-you message for the following positive review:\\n\\n{body}\\n\"\n",
    "    else:\n",
    "        message_prompt = f\"Generate an short apology message for the following negative review and say the we will improve accordingly:\\n\\n{body}\\n\"\n",
    "    \n",
    "    response_message = chat_session.send_message(message_prompt).text.strip()\n",
    "    \n",
    "    return sentiment_response, response_message\n",
    "\n"
   ]
  },
  {
   "cell_type": "code",
   "execution_count": 71,
   "metadata": {},
   "outputs": [],
   "source": [
    "# Function to extract item and company\n",
    "def extract_item_and_company(body):\n",
    "    \n",
    "    \"\"\"\n",
    "    Description:\n",
    "    Extract the purchased item and the company name from the review.\n",
    "\n",
    "    Parameters:\n",
    "    body (str): The content of the review.\n",
    "\n",
    "    Returns:\n",
    "    tuple: A tuple containing:\n",
    "        - item_response (str): The name of the purchased item, or 'unknown' if not identifiable.\n",
    "        - company_response (str): The name of the company that made the item, or 'unknown' if not identifiable.\n",
    "    \"\"\"\n",
    "    \n",
    "    generation_config = {\n",
    "        \"temperature\": 0.7,\n",
    "        \"max_output_tokens\": 8192,\n",
    "        \"response_mime_type\": \"text/plain\",\n",
    "    }\n",
    "\n",
    "    model = genai.GenerativeModel(\n",
    "        model_name=\"gemini-1.5-flash\",\n",
    "        generation_config=generation_config,\n",
    "    )\n",
    "\n",
    "    # Extract item\n",
    "    chat_session = model.start_chat(history=[])\n",
    "    item_prompt = f\"Just Identify the purchased item in the following review: Respond with only the company name, such as 'Samsung phone':\\n\\n{body}\\n\"\n",
    "    item_response = chat_session.send_message(item_prompt).text.strip() or \"unknown\"\n",
    "    \n",
    "    # Extract company\n",
    "    company_prompt = f\"Just identify the company name that made the item in the following review. Respond with only the company name, such as 'Samsung':\\n\\n{body}\\n\"\n",
    "    company_response = chat_session.send_message(company_prompt).text.strip() or \"unknown\"\n",
    "\n",
    "    return item_response, company_response\n",
    "\n",
    "\n"
   ]
  },
  {
   "cell_type": "code",
   "execution_count": 72,
   "metadata": {},
   "outputs": [],
   "source": [
    "def main():\n",
    "    # Read reviews from the text file\n",
    "    reviews = []\n",
    "    with open(r'C:\\Users\\sanju\\bridgelab_local files\\GENAi\\review_input.txt', 'r') as file:\n",
    "        review_content = file.read().strip().split('END')\n",
    "\n",
    "    # Process each review\n",
    "    for review in review_content:\n",
    "        body = review.strip()\n",
    "\n",
    "        # Extract item and company\n",
    "        item, company = extract_item_and_company(body)\n",
    "        \n",
    "        # Analyze sentiment and generate message\n",
    "        sentiment, response_message = analyze_sentiment_and_generate_message(body)\n",
    "        \n",
    "        # Store the extracted data\n",
    "        reviews.append({\n",
    "            \"item\": item,\n",
    "            \"company\": company,\n",
    "            \"sentiment\": sentiment,\n",
    "            \"response_message\": response_message\n",
    "        })\n",
    "\n",
    "    # Save the extracted data to a CSV file using UTF-8 encoding\n",
    "    output_file_path = r'C:\\Users\\sanju\\bridgelab_local files\\GENAi\\review_output.csv'\n",
    "    with open(output_file_path, 'w', newline='', encoding='utf-8') as csvfile:\n",
    "        fieldnames = ['Item', 'Company', 'Sentiment', 'Response Message']\n",
    "        writer = csv.DictWriter(csvfile, fieldnames=fieldnames)\n",
    "\n",
    "        writer.writeheader()\n",
    "        for review in reviews:\n",
    "            writer.writerow({\n",
    "                'Item': review['item'],\n",
    "                'Company': review['company'],\n",
    "                'Sentiment': review['sentiment'],\n",
    "                'Response Message': review['response_message']\n",
    "            })\n",
    "\n",
    "    print(f\"Reviews have been processed and saved to {output_file_path}\")\n"
   ]
  },
  {
   "cell_type": "code",
   "execution_count": 75,
   "metadata": {},
   "outputs": [
    {
     "name": "stdout",
     "output_type": "stream",
     "text": [
      "429 Resource has been exhausted (e.g. check quota).\n"
     ]
    }
   ],
   "source": [
    "try:\n",
    "    if __name__ == '__main__':\n",
    "        main()\n",
    "except Exception as e:\n",
    "    print(e)"
   ]
  }
 ],
 "metadata": {
  "kernelspec": {
   "display_name": "Python 3",
   "language": "python",
   "name": "python3"
  },
  "language_info": {
   "codemirror_mode": {
    "name": "ipython",
    "version": 3
   },
   "file_extension": ".py",
   "mimetype": "text/x-python",
   "name": "python",
   "nbconvert_exporter": "python",
   "pygments_lexer": "ipython3",
   "version": "3.12.6"
  }
 },
 "nbformat": 4,
 "nbformat_minor": 2
}
