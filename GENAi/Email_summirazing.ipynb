{
 "cells": [
  {
   "cell_type": "markdown",
   "metadata": {},
   "source": [
    "'''<br>\n",
    "    @Author: v sanjay kumar<br>\n",
    "    @Date: 2024-10-20 04:00:30<br>\n",
    "    @Last Modified by: v sanjay kumar<br>\n",
    "    @Last Modified time: 2024-010-20 04:00:30.<br>\n",
    "    @Title :summirazing the mails for given text file <br>\n",
    "\n",
    "'''"
   ]
  },
  {
   "cell_type": "code",
   "execution_count": 5,
   "metadata": {},
   "outputs": [],
   "source": [
    "import os\n",
    "import csv\n",
    "import google.generativeai as genai\n",
    "from dotenv import load_dotenv"
   ]
  },
  {
   "cell_type": "code",
   "execution_count": 6,
   "metadata": {},
   "outputs": [],
   "source": [
    "# Load environment variables\n",
    "load_dotenv()\n",
    "genai.configure(api_key=os.environ[\"GEMINI_API_KEY\"])"
   ]
  },
  {
   "cell_type": "code",
   "execution_count": 7,
   "metadata": {},
   "outputs": [],
   "source": [
    "# Function to summarize the email body\n",
    "def summarize_email(body):\n",
    "    \"\"\"Generate a summary for the given email body using Google Generative AI.\"\"\"\n",
    "    generation_config = {\n",
    "        \"temperature\": 1,\n",
    "        \"max_output_tokens\": 8192,\n",
    "        \"response_mime_type\": \"text/plain\",\n",
    "    }\n",
    "    \n",
    "    # Initialize the model\n",
    "    model = genai.GenerativeModel(\n",
    "        model_name=\"gemini-1.5-flash\",\n",
    "        generation_config=generation_config,\n",
    "    )\n",
    "    \n",
    "    # Start a chat session for summarization\n",
    "    chat_session = model.start_chat(history=[])\n",
    "    prompt = f\"Summarize the following email in short:\\n\\n{body}\\n\"\n",
    "    response = chat_session.send_message(prompt)\n",
    "    \n",
    "    return response.text.strip()\n",
    "\n"
   ]
  },
  {
   "cell_type": "code",
   "execution_count": 8,
   "metadata": {},
   "outputs": [],
   "source": [
    "# Function to translate text to Spanish\n",
    "def translate_to_spanish(text):\n",
    "    \"\"\"Translate the given text to Spanish using Google Generative AI.\"\"\"\n",
    "    translation_config = {\n",
    "        \"temperature\": 0.5,\n",
    "        \"max_output_tokens\": 8192,\n",
    "        \"response_mime_type\": \"text/plain\",\n",
    "    }\n",
    "\n",
    "    # Initialize the model\n",
    "    model = genai.GenerativeModel(\n",
    "        model_name=\"gemini-1.5-flash\",\n",
    "        generation_config=translation_config,\n",
    "    )\n",
    "\n",
    "    # Start a chat session for translation\n",
    "    chat_session = model.start_chat()\n",
    "    prompt = f\"Translate the following text to Spanish:\\n\\n{text}\\n\"\n",
    "    response = chat_session.send_message(prompt)\n",
    "    \n",
    "    return response.text.strip()\n"
   ]
  },
  {
   "cell_type": "code",
   "execution_count": 10,
   "metadata": {},
   "outputs": [],
   "source": [
    "def  main():\n",
    "    \n",
    "    # Read emails from the text file\n",
    "    emails = []\n",
    "    with open(r'C:\\Users\\sanju\\bridgelab_local files\\GENAi\\email.txt', 'r') as file:\n",
    "        email_content = file.read().strip().split('END')\n",
    "\n",
    "    # Process each email\n",
    "    for email in email_content:\n",
    "        lines = email.strip().split('\\n')\n",
    "        if len(lines) < 4:\n",
    "            continue  # Skip incomplete emails\n",
    "\n",
    "        # Extract relevant fields\n",
    "        to_line = lines[1].replace(\"To: \", \"\").strip()\n",
    "        from_line = lines[0].replace(\"From: \", \"\").strip()\n",
    "        subject_line = lines[2].replace(\"Subject: \", \"\").strip()\n",
    "        body = \"\\n\".join(lines[4:]).replace(\"Body:\\n\", \"\").strip() \n",
    "\n",
    "        # Get the summary\n",
    "        summary = summarize_email(body)\n",
    "        \n",
    "        # Translate the summary to Spanish\n",
    "        summary_spanish = translate_to_spanish(summary)\n",
    "\n",
    "        # Store the extracted data\n",
    "        emails.append({\n",
    "            \"to\": to_line,\n",
    "            \"from\": from_line,\n",
    "            \"subject\": subject_line,\n",
    "            \"summary\": summary,\n",
    "            \"summary_spanish\": summary_spanish,\n",
    "        })\n",
    "\n",
    "    # Save the extracted data to a CSV file\n",
    "    csv_file_path = r'C:\\Users\\sanju\\bridgelab_local files\\GENAi\\Emails.csv'\n",
    "    with open(csv_file_path, 'w', newline='') as csvfile:\n",
    "        fieldnames = [\"to\", \"from\", \"subject\", \"summary\", \"summary_spanish\"]\n",
    "        writer = csv.DictWriter(csvfile, fieldnames=fieldnames)\n",
    "        writer.writeheader()\n",
    "        writer.writerows(emails)\n",
    "\n",
    "    print(f\"Emails have been saved to {csv_file_path}\")"
   ]
  },
  {
   "cell_type": "code",
   "execution_count": 11,
   "metadata": {},
   "outputs": [
    {
     "name": "stdout",
     "output_type": "stream",
     "text": [
      "Emails have been saved to C:\\Users\\sanju\\bridgelab_local files\\GENAi\\Emails.csv\n"
     ]
    }
   ],
   "source": [
    "if __name__ == '__main__':\n",
    "    main()"
   ]
  }
 ],
 "metadata": {
  "kernelspec": {
   "display_name": "Python 3",
   "language": "python",
   "name": "python3"
  },
  "language_info": {
   "codemirror_mode": {
    "name": "ipython",
    "version": 3
   },
   "file_extension": ".py",
   "mimetype": "text/x-python",
   "name": "python",
   "nbconvert_exporter": "python",
   "pygments_lexer": "ipython3",
   "version": "3.12.6"
  }
 },
 "nbformat": 4,
 "nbformat_minor": 2
}
